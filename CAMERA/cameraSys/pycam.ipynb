{
 "cells": [
  {
   "cell_type": "code",
   "id": "initial_id",
   "metadata": {
    "collapsed": true,
    "ExecuteTime": {
     "end_time": "2024-12-14T01:00:28.260170Z",
     "start_time": "2024-12-14T01:00:28.242900Z"
    }
   },
   "source": [
    "import numpy as np\n",
    "import cv2\n",
    "import glob\n",
    "from icecream import ic\n",
    "from pickle import dump, load\n",
    "from copy import deepcopy\n",
    "from scipy.spatial.transform import Rotation\n",
    "from IPython.display import clear_output"
   ],
   "outputs": [],
   "execution_count": 354
  },
  {
   "metadata": {},
   "cell_type": "markdown",
   "source": "Checkerboard and criteria for calibration",
   "id": "6c7785189be61e8"
  },
  {
   "metadata": {},
   "cell_type": "code",
   "source": [
    "CHECKERBOARD = (10,7)\n",
    "criteria = (cv2.TERM_CRITERIA_EPS + cv2.TERM_CRITERIA_MAX_ITER, 30, 0.001)"
   ],
   "id": "240d4d2b4c51ca41",
   "outputs": [],
   "execution_count": null
  },
  {
   "metadata": {},
   "cell_type": "markdown",
   "source": "Get calibration images",
   "id": "9a223b3bbd478119"
  },
  {
   "metadata": {},
   "cell_type": "code",
   "source": [
    "# Open the default camera\n",
    "cam = cv2.VideoCapture(0)\n",
    "\n",
    "cam.set(cv2.CAP_PROP_FRAME_WIDTH, 1280 )\n",
    "cam.set(cv2.CAP_PROP_FRAME_HEIGHT, 720)\n",
    "cam.set(cv2.CAP_PROP_FPS, 30)\n",
    "\n",
    "# Get the default frame width and height\n",
    "frame_width = int(cam.get(cv2.CAP_PROP_FRAME_WIDTH))\n",
    "frame_height = int(cam.get(cv2.CAP_PROP_FRAME_HEIGHT))\n",
    "fps = int(cam.get(cv2.CAP_PROP_FPS))\n",
    "\n",
    "ic(frame_width, frame_height, fps)\n",
    "\n",
    "n = 0\n",
    "\n",
    "while True:\n",
    "    ret, raw = cam.read()\n",
    "\n",
    "    gray = cv2.cvtColor(raw, cv2.COLOR_RGB2GRAY)\n",
    "    frame = deepcopy(raw)\n",
    "    \n",
    "    ret, corners = cv2.findChessboardCorners(gray, CHECKERBOARD, cv2.CALIB_CB_ADAPTIVE_THRESH + cv2.CALIB_CB_FAST_CHECK + cv2.CALIB_CB_NORMALIZE_IMAGE)\n",
    "\n",
    "    if ret:\n",
    "        # refining pixel coordinates for given 2d points.\n",
    "        corners2 = cv2.cornerSubPix(gray, corners, (11,11),(-1,-1), criteria)\n",
    "\n",
    "        # Draw and display the corners\n",
    "        frame = cv2.drawChessboardCorners(frame, CHECKERBOARD, corners2, ret)\n",
    "       \n",
    "    cv2.imshow('img',frame)\n",
    "    # Press 'q' to exit the loop\n",
    "    if cv2.waitKey(1) == ord('q'):\n",
    "        break\n",
    "    elif cv2.waitKey(1) == ord('c'):\n",
    "        if ret:\n",
    "            cv2.imwrite('calibration images/{}.png'.format(n), raw)\n",
    "            ic(n)\n",
    "            n += 1\n",
    "\n",
    "# Release the capture and writer objects\n",
    "cam.release()\n",
    "cv2.destroyAllWindows()"
   ],
   "id": "b4f6baf9bb1f7fd8",
   "outputs": [],
   "execution_count": null
  },
  {
   "metadata": {},
   "cell_type": "markdown",
   "source": "Calibration",
   "id": "d4290bd5bd55940c"
  },
  {
   "metadata": {},
   "cell_type": "code",
   "source": [
    "# Creating vector to store vectors of 3D points for each checkerboard image\n",
    "objpoints = []\n",
    "# Creating vector to store vectors of 2D points for each checkerboard image\n",
    "imgpoints = [] \n",
    "\n",
    "# Defining the world coordinates for 3D points\n",
    "objp = np.zeros((1, CHECKERBOARD[0] * CHECKERBOARD[1], 3), np.float32)\n",
    "objp[0,:,:2] = np.mgrid[0:CHECKERBOARD[0], 0:CHECKERBOARD[1]].T.reshape(-1, 2)\n",
    "objp *= 24\n",
    "prev_img_shape = None\n",
    " \n",
    "# Extracting path of individual image stored in a given directory\n",
    "images = glob.glob('./calibration images/*.png')\n",
    "for fname in images:\n",
    "    img = cv2.imread(fname)\n",
    "    gray = cv2.cvtColor(img,cv2.COLOR_BGR2GRAY)\n",
    "    # Find the chess board corners\n",
    "    # If desired number of corners are found in the image then ret = true\n",
    "    ret, corners = cv2.findChessboardCorners(gray, CHECKERBOARD, cv2.CALIB_CB_ADAPTIVE_THRESH + cv2.CALIB_CB_FAST_CHECK + cv2.CALIB_CB_NORMALIZE_IMAGE)\n",
    "     \n",
    "    \"\"\"\n",
    "    If desired number of corner are detected,\n",
    "    we refine the pixel coordinates and display \n",
    "    them on the images of checker board\n",
    "    \"\"\"\n",
    "    if ret:\n",
    "        objpoints.append(objp)\n",
    "        # refining pixel coordinates for given 2d points.\n",
    "        corners2 = cv2.cornerSubPix(gray, corners, (11,11),(-1,-1), criteria)\n",
    "         \n",
    "        imgpoints.append(corners2)\n",
    " \n",
    "        # Draw and display the corners\n",
    "        img = cv2.drawChessboardCorners(img, CHECKERBOARD, corners2, ret)\n",
    "     \n",
    "    cv2.imshow('img',img)\n",
    "    cv2.waitKey(1)\n",
    " \n",
    "cv2.destroyAllWindows()\n",
    " \n",
    "h,w = img.shape[:2]\n",
    " \n",
    "\"\"\"\n",
    "Performing camera calibration by \n",
    "passing the value of known 3D points (objpoints)\n",
    "and corresponding pixel coordinates of the \n",
    "detected corners (imgpoints)\n",
    "\"\"\""
   ],
   "id": "382cdb0ae4f1d370",
   "outputs": [],
   "execution_count": null
  },
  {
   "metadata": {},
   "cell_type": "code",
   "source": [
    "ret, mtx, dist, rvecs, tvecs = cv2.calibrateCamera(objpoints, imgpoints, gray.shape[::-1], None, None)\n",
    "ic(mtx, dist)\n",
    "\n",
    "with open('calibration_logi.calib', 'wb') as f:\n",
    "    obj = (mtx,dist)\n",
    "    dump(obj, f)"
   ],
   "id": "f5e787724623ee91",
   "outputs": [],
   "execution_count": null
  },
  {
   "metadata": {},
   "cell_type": "markdown",
   "source": "Egomotion Calculations",
   "id": "95d55152cac945c"
  },
  {
   "metadata": {},
   "cell_type": "code",
   "source": [
    "# Load the Calibration\n",
    "with open('calibration_logi.calib', 'rb') as f:\n",
    "    mtx,dist = load(f)\n",
    "    ic(mtx, dist)"
   ],
   "id": "b1d33cfa21e10d90",
   "outputs": [],
   "execution_count": null
  },
  {
   "metadata": {
    "ExecuteTime": {
     "end_time": "2024-12-14T01:59:59.454797Z",
     "start_time": "2024-12-14T01:59:59.445180Z"
    }
   },
   "cell_type": "code",
   "source": [
    "#Optical FLow Parameters\n",
    "lk_of_params = dict( winSize  = (5, 5),\n",
    "                  maxLevel = 10,\n",
    "                  criteria = (cv2.TERM_CRITERIA_EPS + cv2.TERM_CRITERIA_COUNT, 10, 0.03))\n",
    "\n",
    "# Initiate FAST object\n",
    "fast = cv2.FastFeatureDetector_create(threshold=5, nonmaxSuppression=True)"
   ],
   "id": "8ba1016e56e469fd",
   "outputs": [],
   "execution_count": 412
  },
  {
   "metadata": {},
   "cell_type": "markdown",
   "source": "start cam",
   "id": "4807ed9b95bba671"
  },
  {
   "metadata": {
    "ExecuteTime": {
     "end_time": "2024-12-13T22:42:48.825315Z",
     "start_time": "2024-12-13T22:42:07.355932Z"
    }
   },
   "cell_type": "code",
   "source": [
    "# Open the default camera\n",
    "cam = cv2.VideoCapture(0)\n",
    "\n",
    "cam.set(cv2.CAP_PROP_FRAME_WIDTH, 1280 )\n",
    "cam.set(cv2.CAP_PROP_FRAME_HEIGHT, 720)\n",
    "cam.set(cv2.CAP_PROP_FPS, 15)\n",
    "\n",
    "# Get the default frame width and height\n",
    "frame_width = int(cam.get(cv2.CAP_PROP_FRAME_WIDTH))\n",
    "frame_height = int(cam.get(cv2.CAP_PROP_FRAME_HEIGHT))\n",
    "fps = int(cam.get(cv2.CAP_PROP_FPS))\n",
    "\n",
    "ic(frame_width, frame_height, fps)"
   ],
   "id": "1d87cf9cdc256a34",
   "outputs": [
    {
     "name": "stderr",
     "output_type": "stream",
     "text": [
      "ic| frame_width: 1280, frame_height: 720, fps: 15\n"
     ]
    },
    {
     "data": {
      "text/plain": [
       "(1280, 720, 15)"
      ]
     },
     "execution_count": 182,
     "metadata": {},
     "output_type": "execute_result"
    }
   ],
   "execution_count": 182
  },
  {
   "metadata": {
    "ExecuteTime": {
     "end_time": "2024-12-14T02:02:52.565763Z",
     "start_time": "2024-12-14T02:00:01.927671Z"
    }
   },
   "cell_type": "code",
   "source": [
    "Rpose = np.eye(3)\n",
    "Tpose = np.zeros(shape=(3,1))\n",
    "\n",
    "ret, raw = cam.read()\n",
    "\n",
    "f1 = cv2.cvtColor(raw, cv2.COLOR_RGB2GRAY)\n",
    "\n",
    "while True:\n",
    "    f0 = deepcopy(f1) \n",
    "    ret, raw = cam.read()\n",
    "    frame = raw\n",
    "    f1 = cv2.cvtColor(raw, cv2.COLOR_RGB2GRAY)\n",
    "    \n",
    "   # if good_p1.size / 2 < 1000:\n",
    "    p0 = fast.detect(f0)\n",
    "    p0 = np.array([x.pt for x in p0], dtype=np.float32).reshape(-1, 1, 2)\n",
    "    #else:\n",
    "      #  p0 = deepcopy(good_p1)\n",
    "      #  p0 = np.array(p0, dtype=np.float32).reshape(-1, 1, 2)\n",
    "    \n",
    "    # Calculate optical flow between frames, st holds status\n",
    "    # of points from frame to frame\n",
    "    p1, st, err = cv2.calcOpticalFlowPyrLK(f0, f1, p0, None, **lk_of_params)\n",
    "    \n",
    "    if p1 is not None:\n",
    "        good_p0 = p0[st == 1]\n",
    "        good_p1 = p1[st == 1]\n",
    "    else:\n",
    "        good_p0 = np.empty((0, 2), dtype=np.float32)\n",
    "\n",
    "    if good_p0.size != 0:\n",
    "        #Find essential matrix and decompose\n",
    "        E, _ = cv2.findEssentialMat(good_p1, good_p0, mtx, cv2.RANSAC, 0.999, 1.0, None)\n",
    "        if E is not None:\n",
    "            if not np.isnan(E).any() and E.size == 9:\n",
    "                _, R, t, _ = cv2.recoverPose(E, good_p0, good_p1, mtx)\n",
    "                \n",
    "                Rmag = abs(Rotation.from_matrix(R).as_euler('xyz', degrees=True))\n",
    "                if Rmag.max() < 20:       # Rotation Threshold\n",
    "                    if abs(t).max() > 0.5:\n",
    "                        Tpose = Tpose + np.linalg.inv(Rpose) @ t\n",
    "                    Rpose = R @ Rpose\n",
    "        \n",
    "        for i in range(len(good_p0)):\n",
    "            cv2.circle(frame,(int(good_p0[i][0]),int(good_p0[i][1])),1,(255,0,0))\n",
    "            cv2.circle(frame,(int(good_p1[i][0]),int(good_p1[i][1])),1,(0,0,255))\n",
    "        \n",
    "        cv2.putText(frame, \"R={0}\".format(Rotation.from_matrix(Rpose).as_euler('xyz', degrees=True)), (100,100), cv2.FONT_HERSHEY_SIMPLEX, 0.5, (0,0,0))\n",
    "        cv2.putText(frame, \"t={0}\".format(Tpose), (100,200), cv2.FONT_HERSHEY_PLAIN, 1, (0,0,0))\n",
    "    \n",
    "    cv2.imshow('img',frame)\n",
    "    # Press 'q' to exit the loop\n",
    "    if cv2.waitKey(1) == ord('q'):\n",
    "        break\n",
    "        \n",
    "cv2.destroyAllWindows() "
   ],
   "id": "af5065ea24cba79f",
   "outputs": [],
   "execution_count": 413
  },
  {
   "metadata": {},
   "cell_type": "code",
   "source": [
    "# Release the capture and writer objects\n",
    "cam.release()\n",
    "cv2.destroyAllWindows() "
   ],
   "id": "aa9448124773c9bc",
   "outputs": [],
   "execution_count": null
  },
  {
   "metadata": {
    "ExecuteTime": {
     "end_time": "2024-12-14T01:11:25.718287Z",
     "start_time": "2024-12-14T01:11:25.708287Z"
    }
   },
   "cell_type": "code",
   "source": "",
   "id": "9827309a6519114a",
   "outputs": [
    {
     "data": {
      "text/plain": [
       "array([[ 0.61702205, -0.23418115,  0.75129421],\n",
       "       [ 0.45332911,  0.88614822, -0.09609397],\n",
       "       [-0.64325463,  0.39987563,  0.65293412]])"
      ]
     },
     "execution_count": 365,
     "metadata": {},
     "output_type": "execute_result"
    }
   ],
   "execution_count": 365
  }
 ],
 "metadata": {
  "kernelspec": {
   "display_name": "Python 3",
   "language": "python",
   "name": "python3"
  },
  "language_info": {
   "codemirror_mode": {
    "name": "ipython",
    "version": 2
   },
   "file_extension": ".py",
   "mimetype": "text/x-python",
   "name": "python",
   "nbconvert_exporter": "python",
   "pygments_lexer": "ipython2",
   "version": "2.7.6"
  }
 },
 "nbformat": 4,
 "nbformat_minor": 5
}
