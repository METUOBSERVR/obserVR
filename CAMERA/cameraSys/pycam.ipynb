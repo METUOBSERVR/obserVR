{
 "cells": [
  {
   "cell_type": "code",
   "execution_count": 5,
   "id": "initial_id",
   "metadata": {
    "ExecuteTime": {
     "end_time": "2025-05-13T23:35:12.893759Z",
     "start_time": "2025-05-13T23:35:12.889881Z"
    }
   },
   "outputs": [],
   "source": [
    "import numpy as np\n",
    "import cv2\n",
    "import glob\n",
    "from icecream import ic\n",
    "from pickle import dump, load\n",
    "from copy import deepcopy\n",
    "from scipy.io import loadmat\n",
    "from IPython.display import clear_output"
   ]
  },
  {
   "cell_type": "markdown",
   "id": "6c7785189be61e8",
   "metadata": {},
   "source": [
    "Checkerboard and criteria for calibration"
   ]
  },
  {
   "cell_type": "code",
   "execution_count": 37,
   "id": "240d4d2b4c51ca41",
   "metadata": {
    "ExecuteTime": {
     "end_time": "2025-05-13T23:43:37.839365Z",
     "start_time": "2025-05-13T23:43:37.835658Z"
    }
   },
   "outputs": [],
   "source": [
    "CHECKERBOARD = (10,7)\n",
    "criteria = (cv2.TERM_CRITERIA_EPS + cv2.TERM_CRITERIA_MAX_ITER, 30, 0.001)"
   ]
  },
  {
   "cell_type": "markdown",
   "id": "9a223b3bbd478119",
   "metadata": {},
   "source": [
    "Get calibration images"
   ]
  },
  {
   "cell_type": "code",
   "execution_count": 43,
   "id": "b4f6baf9bb1f7fd8",
   "metadata": {
    "ExecuteTime": {
     "end_time": "2025-05-13T23:44:31.972650Z",
     "start_time": "2025-05-13T23:44:26.946108Z"
    }
   },
   "outputs": [
    {
     "name": "stderr",
     "output_type": "stream",
     "text": [
      "ic| frame_width: 1280, frame_height: 720, fps: 30\n"
     ]
    }
   ],
   "source": [
    "# Open the right camera\n",
    "cam = cv2.VideoCapture(0)\n",
    "\n",
    "cam.set(cv2.CAP_PROP_FRAME_WIDTH, 1280 )\n",
    "cam.set(cv2.CAP_PROP_FRAME_HEIGHT, 720)\n",
    "cam.set(cv2.CAP_PROP_FPS, 30)\n",
    "\n",
    "# Get the default frame width and height\n",
    "frame_width = int(cam.get(cv2.CAP_PROP_FRAME_WIDTH))\n",
    "frame_height = int(cam.get(cv2.CAP_PROP_FRAME_HEIGHT))\n",
    "fps = int(cam.get(cv2.CAP_PROP_FPS))\n",
    "\n",
    "ic(frame_width, frame_height, fps)\n",
    "\n",
    "n = 0\n",
    "\n",
    "while True:\n",
    "    ret, raw = cam.read()\n",
    "\n",
    "    gray = cv2.cvtColor(raw, cv2.COLOR_RGB2GRAY)\n",
    "    frame = deepcopy(raw)\n",
    "    \n",
    "    ret, corners = cv2.findChessboardCorners(gray, CHECKERBOARD, cv2.CALIB_CB_ADAPTIVE_THRESH + cv2.CALIB_CB_FAST_CHECK + cv2.CALIB_CB_NORMALIZE_IMAGE)\n",
    "\n",
    "    if ret:\n",
    "        # refining pixel coordinates for given 2d points.\n",
    "        corners2 = cv2.cornerSubPix(gray, corners, (11,11),(-1,-1), criteria)\n",
    "\n",
    "        # Draw and display the corners\n",
    "        frame = cv2.drawChessboardCorners(frame, CHECKERBOARD, corners2, ret)\n",
    "       \n",
    "    cv2.imshow('img',frame)\n",
    "    # Press 'q' to exit the loop\n",
    "    if cv2.waitKey(1) == ord('q'):\n",
    "        break\n",
    "    elif cv2.waitKey(1) == ord('c'):\n",
    "        if ret:\n",
    "            cv2.imwrite('calibration images/{}.png'.format(n), raw)\n",
    "            ic(n)\n",
    "            n += 1\n",
    "\n",
    "# Release the capture and writer objects\n",
    "cam.release()\n",
    "cv2.destroyAllWindows()"
   ]
  },
  {
   "cell_type": "code",
   "outputs": [],
   "source": [
    "img = cv2.imread(\"calibration images/picamv3/LEFT/Left15.png\")\n",
    "gray = cv2.cvtColor(img, cv2.COLOR_RGB2GRAY)\n",
    "ret, corners = cv2.findChessboardCorners(gray, CHECKERBOARD, cv2.CALIB_CB_ADAPTIVE_THRESH + cv2.CALIB_CB_FAST_CHECK + cv2.CALIB_CB_NORMALIZE_IMAGE)\n",
    "corners2 = cv2.cornerSubPix(gray, corners, (11,11),(-1,-1), criteria)\n",
    "frame = cv2.drawChessboardCorners(img, CHECKERBOARD, corners2, ret)\n",
    "cv2.imshow('img',frame)\n",
    "cv2.waitKey(0)\n",
    "cv2.destroyAllWindows()\n",
    "\n",
    "ic(corners2)"
   ],
   "metadata": {
    "collapsed": false,
    "ExecuteTime": {
     "start_time": "2025-05-12T00:58:07.502111Z"
    }
   },
   "id": "8e61c9a7984605d1",
   "execution_count": null
  },
  {
   "cell_type": "markdown",
   "id": "d4290bd5bd55940c",
   "metadata": {},
   "source": [
    "Calibration 2D\n",
    "Right"
   ]
  },
  {
   "cell_type": "code",
   "execution_count": 44,
   "id": "382cdb0ae4f1d370",
   "metadata": {
    "ExecuteTime": {
     "end_time": "2025-05-13T23:44:38.335137Z",
     "start_time": "2025-05-13T23:44:36.508138Z"
    }
   },
   "outputs": [],
   "source": [
    "# Creating vector to store vectors of 3D points for each checkerboard image\n",
    "objpoints = []\n",
    "# Creating vector to store vectors of 2D points for each checkerboard image\n",
    "imgpoints = [] \n",
    "\n",
    "# Defining the world coordinates for 3D points\n",
    "objp = np.zeros((1, CHECKERBOARD[0] * CHECKERBOARD[1], 3), np.float32)\n",
    "objp[0,:,:2] = np.mgrid[0:CHECKERBOARD[0], 0:CHECKERBOARD[1]].T.reshape(-1, 2)\n",
    "objp *= 2.4\n",
    "prev_img_shape = None\n",
    "\n",
    "\n",
    "# Extracting path of individual image stored in a given directory\n",
    "images = glob.glob('./calibration images/picamv3/RIGHT/*.png')\n",
    "for fname in images:\n",
    "    img = cv2.imread(fname)\n",
    "    gray = cv2.cvtColor(img,cv2.COLOR_BGR2GRAY)\n",
    "    # Find the chess board corners\n",
    "    # If desired number of corners are found in the image then ret = true\n",
    "    ret, corners = cv2.findChessboardCorners(gray, CHECKERBOARD, cv2.CALIB_CB_ADAPTIVE_THRESH + cv2.CALIB_CB_FAST_CHECK + cv2.CALIB_CB_NORMALIZE_IMAGE)\n",
    "     \n",
    "    \"\"\"\n",
    "    If desired number of corner are detected,\n",
    "    we refine the pixel coordinates and display \n",
    "    them on the images of checker board\n",
    "    \"\"\"\n",
    "    if ret:\n",
    "        objpoints.append(objp)\n",
    "        # refining pixel coordinates for given 2d points.\n",
    "        corners2 = cv2.cornerSubPix(gray, corners, (11,11),(-1,-1), criteria)\n",
    "         \n",
    "        imgpoints.append(corners2)\n",
    " \n",
    "        # Draw and display the corners\n",
    "        img = cv2.drawChessboardCorners(img, CHECKERBOARD, corners2, ret)\n",
    "     \n",
    "    cv2.imshow('img',img)\n",
    "    cv2.waitKey(1)\n",
    " \n",
    "cv2.destroyAllWindows()\n",
    " \n",
    "h,w = img.shape[:2]"
   ]
  },
  {
   "cell_type": "code",
   "execution_count": 45,
   "id": "f5e787724623ee91",
   "metadata": {
    "ExecuteTime": {
     "end_time": "2025-05-13T23:44:55.792569Z",
     "start_time": "2025-05-13T23:44:39.208075Z"
    }
   },
   "outputs": [
    {
     "name": "stderr",
     "output_type": "stream",
     "text": [
      "ic| mtxR: array([[932.53891575,   0.        , 272.58233251],\n",
      "                 [  0.        , 927.47669794, 337.06310409],\n",
      "                 [  0.        ,   0.        ,   1.        ]])\n",
      "    distR: array([[-0.01396712,  0.35858365,  0.00813819,  0.01383208, -1.00899726]])\n"
     ]
    }
   ],
   "source": [
    "\"\"\"\n",
    "Performing camera calibration by \n",
    "passing the value of known 3D points (objpoints)\n",
    "and corresponding pixel coordinates of the \n",
    "detected corners (imgpoints)\n",
    "\"\"\"\n",
    "ret, mtxR, distR, rvecs, tvecs = cv2.calibrateCamera(objpoints, imgpoints, gray.shape[::-1], None, None)\n",
    "ic(mtxR, distR)\n",
    "\n",
    "with open('calibrationR.calib', 'wb') as f:\n",
    "    obj = (mtxR,distR)\n",
    "    dump(obj, f)"
   ]
  },
  {
   "cell_type": "markdown",
   "source": [
    "Calibration 2D\n",
    "Left"
   ],
   "metadata": {
    "collapsed": false
   },
   "id": "633466e7778f19e4"
  },
  {
   "cell_type": "code",
   "outputs": [],
   "source": [
    "# Creating vector to store vectors of 3D points for each checkerboard image\n",
    "objpoints = []\n",
    "# Creating vector to store vectors of 2D points for each checkerboard image\n",
    "imgpoints = []\n",
    "\n",
    "# Defining the world coordinates for 3D points\n",
    "objp = np.zeros((1, CHECKERBOARD[0] * CHECKERBOARD[1], 3), np.float32)\n",
    "objp[0, :, :2] = np.mgrid[0:CHECKERBOARD[0], 0:CHECKERBOARD[1]].T.reshape(-1, 2)\n",
    "objp *= 2.4\n",
    "prev_img_shape = None\n",
    "\n",
    "# Extracting path of individual image stored in a given directory\n",
    "images = glob.glob('./calibration images/picamv3/LEFT/*.png')\n",
    "for fname in images:\n",
    "    img = cv2.imread(fname)\n",
    "    gray = cv2.cvtColor(img, cv2.COLOR_BGR2GRAY)\n",
    "    # Find the chess board corners\n",
    "    # If desired number of corners are found in the image then ret = true\n",
    "    ret, corners = cv2.findChessboardCorners(gray, CHECKERBOARD,\n",
    "                                             cv2.CALIB_CB_ADAPTIVE_THRESH + cv2.CALIB_CB_FAST_CHECK + cv2.CALIB_CB_NORMALIZE_IMAGE)\n",
    "\n",
    "    \"\"\"\n",
    "    If desired number of corner are detected,\n",
    "    we refine the pixel coordinates and display \n",
    "    them on the images of checker board\n",
    "    \"\"\"\n",
    "    if ret:\n",
    "        objpoints.append(objp)\n",
    "        # refining pixel coordinates for given 2d points.\n",
    "        corners2 = cv2.cornerSubPix(gray, corners, (11, 11), (-1, -1), criteria)\n",
    "\n",
    "        imgpoints.append(corners2)\n",
    "\n",
    "        # Draw and display the corners\n",
    "        img = cv2.drawChessboardCorners(img, CHECKERBOARD, corners2, ret)\n",
    "\n",
    "    cv2.imshow('img', img)\n",
    "    cv2.waitKey(1)\n",
    "\n",
    "cv2.destroyAllWindows()\n",
    "\n",
    "h, w = img.shape[:2]"
   ],
   "metadata": {
    "collapsed": false,
    "ExecuteTime": {
     "end_time": "2025-05-13T23:44:57.364476Z",
     "start_time": "2025-05-13T23:44:55.793971Z"
    }
   },
   "id": "fc6c78aa645f385e",
   "execution_count": 46
  },
  {
   "cell_type": "code",
   "outputs": [
    {
     "name": "stderr",
     "output_type": "stream",
     "text": [
      "ic| mtxL: array([[931.30019496,   0.        , 281.76963219],\n",
      "                 [  0.        , 926.8736945 , 335.41083851],\n",
      "                 [  0.        ,   0.        ,   1.        ]])\n",
      "    distL: array([[ 0.07865313, -0.84050108,  0.01016875,  0.01707246,  3.63095832]])\n"
     ]
    }
   ],
   "source": [
    "\"\"\"\n",
    "Performing camera calibration by \n",
    "passing the value of known 3D points (objpoints)\n",
    "and corresponding pixel coordinates of the \n",
    "detected corners (imgpoints)\n",
    "\"\"\"\n",
    "ret, mtxL, distL, rvecs, tvecs = cv2.calibrateCamera(objpoints, imgpoints, gray.shape[::-1], None, None)\n",
    "ic(mtxL, distL)\n",
    "\n",
    "with open('calibrationL.calib', 'wb') as f:\n",
    "    obj = (mtxL, distL)\n",
    "    dump(obj, f)"
   ],
   "metadata": {
    "collapsed": false,
    "ExecuteTime": {
     "end_time": "2025-05-13T23:45:22.744546Z",
     "start_time": "2025-05-13T23:45:13.295827Z"
    }
   },
   "id": "1dc3886c623a1eb0",
   "execution_count": 48
  },
  {
   "cell_type": "markdown",
   "source": [
    "Calibration 3d"
   ],
   "metadata": {
    "collapsed": false
   },
   "id": "11bcede566f65c69"
  },
  {
   "cell_type": "code",
   "outputs": [],
   "source": [
    "# Creating vector to store vectors of 3D points for each checkerboard image\n",
    "objpoints = []\n",
    "\n",
    "imgpointsR = []\n",
    "imgpointsL = []\n",
    "\n",
    "# Defining the world coordinates for 3D points\n",
    "objp = np.zeros((1, CHECKERBOARD[0] * CHECKERBOARD[1], 3), np.float32)\n",
    "objp[0, :, :2] = np.mgrid[0:CHECKERBOARD[0], 0:CHECKERBOARD[1]].T.reshape(-1, 2)\n",
    "objp *= 2.4\n",
    "prev_img_shape = None\n",
    "\n",
    "# Extracting path of individual image stored in a given directory\n",
    "imagesR = glob.glob('./calibration images/picamv3/STEREO/Right/Right*.png')\n",
    "imagesL = glob.glob('./calibration images/picamv3/STEREO/Left/Left*.png')\n",
    "\n",
    "for fnameR, fnameL in zip(imagesR, imagesL):\n",
    "    imgR = cv2.imread(fnameR)\n",
    "    imgL = cv2.imread(fnameL)\n",
    "    \n",
    "    grayR = cv2.cvtColor(imgR, cv2.COLOR_BGR2GRAY)\n",
    "    grayL = cv2.cvtColor(imgL, cv2.COLOR_BGR2GRAY)\n",
    "    \n",
    "    # Find the chess board corners\n",
    "    # If desired number of corners are found in the image then ret = true\n",
    "    retR, cornersR = cv2.findChessboardCorners(grayR, CHECKERBOARD,\n",
    "                                             cv2.CALIB_CB_ADAPTIVE_THRESH + cv2.CALIB_CB_FAST_CHECK + cv2.CALIB_CB_NORMALIZE_IMAGE)\n",
    "    retL, cornersL = cv2.findChessboardCorners(grayL, CHECKERBOARD,\n",
    "                                             cv2.CALIB_CB_ADAPTIVE_THRESH + cv2.CALIB_CB_FAST_CHECK + cv2.CALIB_CB_NORMALIZE_IMAGE)\n",
    "\n",
    "    \"\"\"\n",
    "    If desired number of corner are detected,\n",
    "    we refine the pixel coordinates and display \n",
    "    them on the images of checker board\n",
    "    \"\"\"\n",
    "    if retR and retL:\n",
    "        objpoints.append(objp)\n",
    "        \n",
    "        # refining pixel coordinates for given 2d points.\n",
    "        corners2R = cv2.cornerSubPix(grayR, cornersR, (11, 11), (-1, -1), criteria)\n",
    "        corners2L = cv2.cornerSubPix(grayL, cornersL, (11, 11), (-1, -1), criteria)\n",
    "\n",
    "        imgpointsR.append(corners2R)\n",
    "        imgpointsL.append(corners2L)\n",
    "\n",
    "        # Draw and display the corners\n",
    "        imgR = cv2.drawChessboardCorners(imgR, CHECKERBOARD, corners2R, retR)\n",
    "        imgL = cv2.drawChessboardCorners(imgL, CHECKERBOARD, corners2L, retL)\n",
    "    \n",
    "    cv2.imshow('img', np.concatenate((imgL, imgR), axis=1))\n",
    "    cv2.waitKey(1)\n",
    "\n",
    "cv2.destroyAllWindows()\n",
    "\n",
    "h, w = imgR.shape[:2]"
   ],
   "metadata": {
    "collapsed": false,
    "ExecuteTime": {
     "end_time": "2025-05-13T23:45:25.735972Z",
     "start_time": "2025-05-13T23:45:22.746556Z"
    }
   },
   "id": "7eccf212ca92fa15",
   "execution_count": 49
  },
  {
   "cell_type": "code",
   "outputs": [
    {
     "name": "stderr",
     "output_type": "stream",
     "text": [
      "ic| KL: array([[931.30019496,   0.        , 281.76963219],\n",
      "               [  0.        , 926.8736945 , 335.41083851],\n",
      "               [  0.        ,   0.        ,   1.        ]])\n",
      "    distL: array([[ 0.07865313, -0.84050108,  0.01016875,  0.01707246,  3.63095832]])\n",
      "    KR: array([[932.53891575,   0.        , 272.58233251],\n",
      "               [  0.        , 927.47669794, 337.06310409],\n",
      "               [  0.        ,   0.        ,   1.        ]])\n",
      "    distR: array([[-0.01396712,  0.35858365,  0.00813819,  0.01383208, -1.00899726]])\n",
      "ic| R: array([[ 0.9987424 , -0.0226302 , -0.04473809],\n",
      "              [ 0.02377945,  0.9993964 ,  0.02532525],\n",
      "              [ 0.04413797, -0.02635725,  0.99867769]])\n",
      "    T: array([[-11.85573165],\n",
      "              [ -0.37841502],\n",
      "              [ -0.13359546]])\n"
     ]
    }
   ],
   "source": [
    "\"\"\"\n",
    "Performing camera calibration by \n",
    "passing the value of known 3D points (objpoints)\n",
    "and corresponding pixel coordinates of the \n",
    "detected corners (imgpoints)\n",
    "\"\"\"\n",
    "ret, KL, distL, KR, distR, R, T, E, F = cv2.stereoCalibrate(objpoints, imgpointsL, imgpointsR, mtxL, distL,\n",
    "                                                                 mtxR, distR, (w, h), criteria = criteria, flags = cv2.CALIB_FIX_INTRINSIC)\n",
    "ic(KL, distL, KR, distR)\n",
    "ic(R, T)\n",
    "\n",
    "with open('calibrationStereo.calib', 'wb') as f:\n",
    "    obj = (mtxR, distR, mtxL, distL, R, T)\n",
    "    dump(obj, f)"
   ],
   "metadata": {
    "collapsed": false,
    "ExecuteTime": {
     "end_time": "2025-05-13T23:45:26.506188Z",
     "start_time": "2025-05-13T23:45:25.735972Z"
    }
   },
   "id": "56f85fcee2964a17",
   "execution_count": 50
  },
  {
   "cell_type": "markdown",
   "source": [
    "Check Calibration"
   ],
   "metadata": {
    "collapsed": false
   },
   "id": "e898fd979e758c54"
  },
  {
   "cell_type": "code",
   "outputs": [
    {
     "name": "stderr",
     "output_type": "stream",
     "text": [
      "ic| mtxR: array([[932.53891575,   0.        , 272.58233251],\n",
      "                 [  0.        , 927.47669794, 337.06310409],\n",
      "                 [  0.        ,   0.        ,   1.        ]])\n",
      "    distR: array([[-0.01396712,  0.35858365,  0.00813819,  0.01383208, -1.00899726]])\n",
      "    mtxL: array([[931.30019496,   0.        , 281.76963219],\n",
      "                 [  0.        , 926.8736945 , 335.41083851],\n",
      "                 [  0.        ,   0.        ,   1.        ]])\n",
      "    distL: array([[ 0.07865313, -0.84050108,  0.01016875,  0.01707246,  3.63095832]])\n",
      "    R: array([[ 0.9987424 , -0.0226302 , -0.04473809],\n",
      "              [ 0.02377945,  0.9993964 ,  0.02532525],\n",
      "              [ 0.04413797, -0.02635725,  0.99867769]])\n",
      "    T: array([[-11.85573165],\n",
      "              [ -0.37841502],\n",
      "              [ -0.13359546]])\n"
     ]
    },
    {
     "data": {
      "text/plain": "(3, 1)"
     },
     "execution_count": 60,
     "metadata": {},
     "output_type": "execute_result"
    }
   ],
   "source": [
    "with open('calibrationStereo.calib', 'rb') as f:\n",
    "    mtxR, distR, mtxL, distL, R, T = load(f)\n",
    "    ic(mtxR, distR, mtxL, distL, R, T)"
   ],
   "metadata": {
    "collapsed": false,
    "ExecuteTime": {
     "end_time": "2025-05-13T23:47:07.469105Z",
     "start_time": "2025-05-13T23:47:07.346324Z"
    }
   },
   "id": "37c24f037338e44f",
   "execution_count": 60
  },
  {
   "cell_type": "markdown",
   "id": "95d55152cac945c",
   "metadata": {},
   "source": [
    "Load from MATLAB"
   ]
  },
  {
   "cell_type": "code",
   "outputs": [
    {
     "name": "stderr",
     "output_type": "stream",
     "text": [
      "ic| mtxR: array([[928.74134925,  -2.78950306, 234.51519536],\n",
      "                 [  0.        , 924.61167607, 311.08571701],\n",
      "                 [  0.        ,   0.        ,   1.        ]])\n",
      "    distR: array([[-8.50259736e-02,  1.46691812e+00, -1.28022741e-03,\n",
      "                   -2.29928116e-03, -5.95935610e+00]])\n",
      "    mtxL: array([[930.23142113,   1.22010612, 281.24808447],\n",
      "                 [  0.        , 925.27952836, 337.06441415],\n",
      "                 [  0.        ,   0.        ,   1.        ]])\n",
      "    distL: array([[ 0.08985777, -0.94932493,  0.01091477,  0.01673229,  4.08535401]])\n",
      "    R: array([[ 0.99977866, -0.02062884, -0.00413381],\n",
      "              [ 0.02082481,  0.99827449,  0.0549033 ],\n",
      "              [ 0.00299409, -0.05497723,  0.99848312]])\n",
      "    T: array([[-11.82037629],\n",
      "              [ -0.31764749],\n",
      "              [  0.13287293]])\n"
     ]
    },
    {
     "data": {
      "text/plain": "(array([[928.74134925,  -2.78950306, 234.51519536],\n        [  0.        , 924.61167607, 311.08571701],\n        [  0.        ,   0.        ,   1.        ]]),\n array([[-8.50259736e-02,  1.46691812e+00, -1.28022741e-03,\n         -2.29928116e-03, -5.95935610e+00]]),\n array([[930.23142113,   1.22010612, 281.24808447],\n        [  0.        , 925.27952836, 337.06441415],\n        [  0.        ,   0.        ,   1.        ]]),\n array([[ 0.08985777, -0.94932493,  0.01091477,  0.01673229,  4.08535401]]),\n array([[ 0.99977866, -0.02062884, -0.00413381],\n        [ 0.02082481,  0.99827449,  0.0549033 ],\n        [ 0.00299409, -0.05497723,  0.99848312]]),\n array([[-11.82037629],\n        [ -0.31764749],\n        [  0.13287293]]))"
     },
     "execution_count": 63,
     "metadata": {},
     "output_type": "execute_result"
    }
   ],
   "source": [
    "mat_contents = loadmat(\"calibrationStereo.mat\")\n",
    "contents = mat_contents['calibrationStereo'][0,0]\n",
    "\n",
    "mtxL, mtxR, distL, distR, R, T = contents\n",
    "\n",
    "T = T.T\n",
    "\n",
    "ic(mtxR, distR, mtxL, distL, R, T)"
   ],
   "metadata": {
    "collapsed": false,
    "ExecuteTime": {
     "end_time": "2025-05-13T23:48:39.468995Z",
     "start_time": "2025-05-13T23:48:39.330947Z"
    }
   },
   "id": "cfd76bf8828f9cf4",
   "execution_count": 63
  },
  {
   "cell_type": "code",
   "outputs": [],
   "source": [
    "with open('calibrationStereo_mat.calib', 'wb') as f:\n",
    "    obj = (mtxR, distR, mtxL, distL, R, T)\n",
    "    dump(obj, f)"
   ],
   "metadata": {
    "collapsed": false,
    "ExecuteTime": {
     "end_time": "2025-05-13T23:48:43.337923Z",
     "start_time": "2025-05-13T23:48:43.333848Z"
    }
   },
   "id": "dfe37cda6e89984d",
   "execution_count": 64
  }
 ],
 "metadata": {
  "kernelspec": {
   "display_name": "Python [conda env:base] *",
   "language": "python",
   "name": "conda-base-py"
  },
  "language_info": {
   "codemirror_mode": {
    "name": "ipython",
    "version": 3
   },
   "file_extension": ".py",
   "mimetype": "text/x-python",
   "name": "python",
   "nbconvert_exporter": "python",
   "pygments_lexer": "ipython3",
   "version": "3.12.7"
  }
 },
 "nbformat": 4,
 "nbformat_minor": 5
}
