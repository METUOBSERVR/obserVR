{
 "cells": [
  {
   "cell_type": "code",
   "execution_count": 1,
   "id": "initial_id",
   "metadata": {
    "ExecuteTime": {
     "end_time": "2025-05-12T00:58:40.902007Z",
     "start_time": "2025-05-12T00:58:40.588608Z"
    }
   },
   "outputs": [],
   "source": [
    "import numpy as np\n",
    "import cv2\n",
    "import glob\n",
    "from icecream import ic\n",
    "from pickle import dump, load\n",
    "from copy import deepcopy\n",
    "from scipy.spatial.transform import Rotation\n",
    "from IPython.display import clear_output"
   ]
  },
  {
   "cell_type": "markdown",
   "id": "6c7785189be61e8",
   "metadata": {},
   "source": [
    "Checkerboard and criteria for calibration"
   ]
  },
  {
   "cell_type": "code",
   "execution_count": 2,
   "id": "240d4d2b4c51ca41",
   "metadata": {
    "ExecuteTime": {
     "end_time": "2025-05-12T00:58:42.106251Z",
     "start_time": "2025-05-12T00:58:42.102234Z"
    }
   },
   "outputs": [],
   "source": [
    "CHECKERBOARD = (10,7)\n",
    "criteria = (cv2.TERM_CRITERIA_EPS + cv2.TERM_CRITERIA_MAX_ITER, 30, 0.001)"
   ]
  },
  {
   "cell_type": "markdown",
   "id": "9a223b3bbd478119",
   "metadata": {},
   "source": [
    "Get calibration images"
   ]
  },
  {
   "cell_type": "code",
   "execution_count": null,
   "id": "b4f6baf9bb1f7fd8",
   "metadata": {},
   "outputs": [],
   "source": [
    "# Open the right camera\n",
    "cam = cv2.VideoCapture(0)\n",
    "\n",
    "cam.set(cv2.CAP_PROP_FRAME_WIDTH, 1280 )\n",
    "cam.set(cv2.CAP_PROP_FRAME_HEIGHT, 720)\n",
    "cam.set(cv2.CAP_PROP_FPS, 30)\n",
    "\n",
    "# Get the default frame width and height\n",
    "frame_width = int(cam.get(cv2.CAP_PROP_FRAME_WIDTH))\n",
    "frame_height = int(cam.get(cv2.CAP_PROP_FRAME_HEIGHT))\n",
    "fps = int(cam.get(cv2.CAP_PROP_FPS))\n",
    "\n",
    "ic(frame_width, frame_height, fps)\n",
    "\n",
    "n = 0\n",
    "\n",
    "while True:\n",
    "    ret, raw = cam.read()\n",
    "\n",
    "    gray = cv2.cvtColor(raw, cv2.COLOR_RGB2GRAY)\n",
    "    frame = deepcopy(raw)\n",
    "    \n",
    "    ret, corners = cv2.findChessboardCorners(gray, CHECKERBOARD, cv2.CALIB_CB_ADAPTIVE_THRESH + cv2.CALIB_CB_FAST_CHECK + cv2.CALIB_CB_NORMALIZE_IMAGE)\n",
    "\n",
    "    if ret:\n",
    "        # refining pixel coordinates for given 2d points.\n",
    "        corners2 = cv2.cornerSubPix(gray, corners, (11,11),(-1,-1), criteria)\n",
    "\n",
    "        # Draw and display the corners\n",
    "        frame = cv2.drawChessboardCorners(frame, CHECKERBOARD, corners2, ret)\n",
    "       \n",
    "    cv2.imshow('img',frame)\n",
    "    # Press 'q' to exit the loop\n",
    "    if cv2.waitKey(1) == ord('q'):\n",
    "        break\n",
    "    elif cv2.waitKey(1) == ord('c'):\n",
    "        if ret:\n",
    "            cv2.imwrite('calibration images/{}.png'.format(n), raw)\n",
    "            ic(n)\n",
    "            n += 1\n",
    "\n",
    "# Release the capture and writer objects\n",
    "cam.release()\n",
    "cv2.destroyAllWindows()"
   ]
  },
  {
   "cell_type": "code",
   "outputs": [],
   "source": [
    "img = cv2.imread(\"calibration images/picamv3/LEFT/Left15.png\")\n",
    "gray = cv2.cvtColor(img, cv2.COLOR_RGB2GRAY)\n",
    "ret, corners = cv2.findChessboardCorners(gray, CHECKERBOARD, cv2.CALIB_CB_ADAPTIVE_THRESH + cv2.CALIB_CB_FAST_CHECK + cv2.CALIB_CB_NORMALIZE_IMAGE)\n",
    "corners2 = cv2.cornerSubPix(gray, corners, (11,11),(-1,-1), criteria)\n",
    "frame = cv2.drawChessboardCorners(img, CHECKERBOARD, corners2, ret)\n",
    "cv2.imshow('img',frame)\n",
    "cv2.waitKey(0)\n",
    "cv2.destroyAllWindows()\n",
    "\n",
    "ic(corners2)"
   ],
   "metadata": {
    "collapsed": false,
    "ExecuteTime": {
     "start_time": "2025-05-12T00:58:07.502111Z"
    }
   },
   "id": "8e61c9a7984605d1",
   "execution_count": null
  },
  {
   "cell_type": "markdown",
   "id": "d4290bd5bd55940c",
   "metadata": {},
   "source": [
    "Calibration 2D\n",
    "Right"
   ]
  },
  {
   "cell_type": "code",
   "execution_count": 34,
   "id": "382cdb0ae4f1d370",
   "metadata": {
    "ExecuteTime": {
     "end_time": "2025-05-12T01:39:29.191751Z",
     "start_time": "2025-05-12T01:39:27.303269Z"
    }
   },
   "outputs": [],
   "source": [
    "# Creating vector to store vectors of 3D points for each checkerboard image\n",
    "objpoints = []\n",
    "# Creating vector to store vectors of 2D points for each checkerboard image\n",
    "imgpoints = [] \n",
    "\n",
    "# Defining the world coordinates for 3D points\n",
    "objp = np.zeros((1, CHECKERBOARD[0] * CHECKERBOARD[1], 3), np.float32)\n",
    "objp[0,:,:2] = np.mgrid[0:CHECKERBOARD[0], 0:CHECKERBOARD[1]].T.reshape(-1, 2)\n",
    "objp *= 2.4\n",
    "prev_img_shape = None\n",
    "\n",
    "\n",
    "# Extracting path of individual image stored in a given directory\n",
    "images = glob.glob('./calibration images/picamv3/RIGHT/*.png')\n",
    "for fname in images:\n",
    "    img = cv2.imread(fname)\n",
    "    gray = cv2.cvtColor(img,cv2.COLOR_BGR2GRAY)\n",
    "    # Find the chess board corners\n",
    "    # If desired number of corners are found in the image then ret = true\n",
    "    ret, corners = cv2.findChessboardCorners(gray, CHECKERBOARD, cv2.CALIB_CB_ADAPTIVE_THRESH + cv2.CALIB_CB_FAST_CHECK + cv2.CALIB_CB_NORMALIZE_IMAGE)\n",
    "     \n",
    "    \"\"\"\n",
    "    If desired number of corner are detected,\n",
    "    we refine the pixel coordinates and display \n",
    "    them on the images of checker board\n",
    "    \"\"\"\n",
    "    if ret:\n",
    "        objpoints.append(objp)\n",
    "        # refining pixel coordinates for given 2d points.\n",
    "        corners2 = cv2.cornerSubPix(gray, corners, (11,11),(-1,-1), criteria)\n",
    "         \n",
    "        imgpoints.append(corners2)\n",
    " \n",
    "        # Draw and display the corners\n",
    "        img = cv2.drawChessboardCorners(img, CHECKERBOARD, corners2, ret)\n",
    "     \n",
    "    cv2.imshow('img',img)\n",
    "    cv2.waitKey(1)\n",
    " \n",
    "cv2.destroyAllWindows()\n",
    " \n",
    "h,w = img.shape[:2]"
   ]
  },
  {
   "cell_type": "code",
   "execution_count": 35,
   "id": "f5e787724623ee91",
   "metadata": {
    "ExecuteTime": {
     "end_time": "2025-05-12T01:39:46.531850Z",
     "start_time": "2025-05-12T01:39:30.211839Z"
    }
   },
   "outputs": [
    {
     "name": "stderr",
     "output_type": "stream",
     "text": [
      "ic| mtxR: array([[932.53891575,   0.        , 272.58233251],\n",
      "                 [  0.        , 927.47669794, 337.06310409],\n",
      "                 [  0.        ,   0.        ,   1.        ]])\n",
      "    distR: array([[-0.01396712,  0.35858365,  0.00813819,  0.01383208, -1.00899726]])\n"
     ]
    }
   ],
   "source": [
    "\"\"\"\n",
    "Performing camera calibration by \n",
    "passing the value of known 3D points (objpoints)\n",
    "and corresponding pixel coordinates of the \n",
    "detected corners (imgpoints)\n",
    "\"\"\"\n",
    "ret, mtxR, distR, rvecs, tvecs = cv2.calibrateCamera(objpoints, imgpoints, gray.shape[::-1], None, None)\n",
    "ic(mtxR, distR)\n",
    "\n",
    "with open('calibrationR.calib', 'wb') as f:\n",
    "    obj = (mtxR,distR)\n",
    "    dump(obj, f)"
   ]
  },
  {
   "cell_type": "markdown",
   "source": [
    "Calibration 2D\n",
    "Left"
   ],
   "metadata": {
    "collapsed": false
   },
   "id": "633466e7778f19e4"
  },
  {
   "cell_type": "code",
   "outputs": [],
   "source": [
    "# Creating vector to store vectors of 3D points for each checkerboard image\n",
    "objpoints = []\n",
    "# Creating vector to store vectors of 2D points for each checkerboard image\n",
    "imgpoints = []\n",
    "\n",
    "# Defining the world coordinates for 3D points\n",
    "objp = np.zeros((1, CHECKERBOARD[0] * CHECKERBOARD[1], 3), np.float32)\n",
    "objp[0, :, :2] = np.mgrid[0:CHECKERBOARD[0], 0:CHECKERBOARD[1]].T.reshape(-1, 2)\n",
    "objp *= 2.4\n",
    "prev_img_shape = None\n",
    "\n",
    "# Extracting path of individual image stored in a given directory\n",
    "images = glob.glob('./calibration images/picamv3/LEFT/*.png')\n",
    "for fname in images:\n",
    "    img = cv2.imread(fname)\n",
    "    gray = cv2.cvtColor(img, cv2.COLOR_BGR2GRAY)\n",
    "    # Find the chess board corners\n",
    "    # If desired number of corners are found in the image then ret = true\n",
    "    ret, corners = cv2.findChessboardCorners(gray, CHECKERBOARD,\n",
    "                                             cv2.CALIB_CB_ADAPTIVE_THRESH + cv2.CALIB_CB_FAST_CHECK + cv2.CALIB_CB_NORMALIZE_IMAGE)\n",
    "\n",
    "    \"\"\"\n",
    "    If desired number of corner are detected,\n",
    "    we refine the pixel coordinates and display \n",
    "    them on the images of checker board\n",
    "    \"\"\"\n",
    "    if ret:\n",
    "        objpoints.append(objp)\n",
    "        # refining pixel coordinates for given 2d points.\n",
    "        corners2 = cv2.cornerSubPix(gray, corners, (11, 11), (-1, -1), criteria)\n",
    "\n",
    "        imgpoints.append(corners2)\n",
    "\n",
    "        # Draw and display the corners\n",
    "        img = cv2.drawChessboardCorners(img, CHECKERBOARD, corners2, ret)\n",
    "\n",
    "    cv2.imshow('img', img)\n",
    "    cv2.waitKey(1)\n",
    "\n",
    "cv2.destroyAllWindows()\n",
    "\n",
    "h, w = img.shape[:2]"
   ],
   "metadata": {
    "collapsed": false,
    "ExecuteTime": {
     "end_time": "2025-05-12T01:40:26.823126Z",
     "start_time": "2025-05-12T01:40:25.235251Z"
    }
   },
   "id": "fc6c78aa645f385e",
   "execution_count": 36
  },
  {
   "cell_type": "code",
   "outputs": [
    {
     "name": "stderr",
     "output_type": "stream",
     "text": [
      "ic| mtxL: array([[931.30019496,   0.        , 281.76963219],\n",
      "                 [  0.        , 926.8736945 , 335.41083851],\n",
      "                 [  0.        ,   0.        ,   1.        ]])\n",
      "    distL: array([[ 0.07865313, -0.84050108,  0.01016875,  0.01707246,  3.63095832]])\n"
     ]
    }
   ],
   "source": [
    "\"\"\"\n",
    "Performing camera calibration by \n",
    "passing the value of known 3D points (objpoints)\n",
    "and corresponding pixel coordinates of the \n",
    "detected corners (imgpoints)\n",
    "\"\"\"\n",
    "ret, mtxL, distL, rvecs, tvecs = cv2.calibrateCamera(objpoints, imgpoints, gray.shape[::-1], None, None)\n",
    "ic(mtxL, distL)\n",
    "\n",
    "with open('calibrationL.calib', 'wb') as f:\n",
    "    obj = (mtxL, distL)\n",
    "    dump(obj, f)"
   ],
   "metadata": {
    "collapsed": false,
    "ExecuteTime": {
     "end_time": "2025-05-12T01:40:38.851432Z",
     "start_time": "2025-05-12T01:40:29.598496Z"
    }
   },
   "id": "1dc3886c623a1eb0",
   "execution_count": 37
  },
  {
   "cell_type": "markdown",
   "source": [
    "Calibration 3d"
   ],
   "metadata": {
    "collapsed": false
   },
   "id": "11bcede566f65c69"
  },
  {
   "cell_type": "code",
   "outputs": [],
   "source": [
    "# Creating vector to store vectors of 3D points for each checkerboard image\n",
    "objpoints = []\n",
    "\n",
    "imgpointsR = []\n",
    "imgpointsL = []\n",
    "\n",
    "# Defining the world coordinates for 3D points\n",
    "objp = np.zeros((1, CHECKERBOARD[0] * CHECKERBOARD[1], 3), np.float32)\n",
    "objp[0, :, :2] = np.mgrid[0:CHECKERBOARD[0], 0:CHECKERBOARD[1]].T.reshape(-1, 2)\n",
    "objp *= 2.4\n",
    "prev_img_shape = None\n",
    "\n",
    "# Extracting path of individual image stored in a given directory\n",
    "imagesR = glob.glob('./calibration images/picamv3/STEREO/Right*.png')\n",
    "imagesL = glob.glob('./calibration images/picamv3/STEREO/Left*.png')\n",
    "\n",
    "for fnameR, fnameL in zip(imagesR, imagesL):\n",
    "    imgR = cv2.imread(fnameR)\n",
    "    imgL = cv2.imread(fnameL)\n",
    "    \n",
    "    grayR = cv2.cvtColor(imgR, cv2.COLOR_BGR2GRAY)\n",
    "    grayL = cv2.cvtColor(imgL, cv2.COLOR_BGR2GRAY)\n",
    "    \n",
    "    # Find the chess board corners\n",
    "    # If desired number of corners are found in the image then ret = true\n",
    "    retR, cornersR = cv2.findChessboardCorners(grayR, CHECKERBOARD,\n",
    "                                             cv2.CALIB_CB_ADAPTIVE_THRESH + cv2.CALIB_CB_FAST_CHECK + cv2.CALIB_CB_NORMALIZE_IMAGE)\n",
    "    retL, cornersL = cv2.findChessboardCorners(grayL, CHECKERBOARD,\n",
    "                                             cv2.CALIB_CB_ADAPTIVE_THRESH + cv2.CALIB_CB_FAST_CHECK + cv2.CALIB_CB_NORMALIZE_IMAGE)\n",
    "\n",
    "    \"\"\"\n",
    "    If desired number of corner are detected,\n",
    "    we refine the pixel coordinates and display \n",
    "    them on the images of checker board\n",
    "    \"\"\"\n",
    "    if retR and retL:\n",
    "        objpoints.append(objp)\n",
    "        \n",
    "        # refining pixel coordinates for given 2d points.\n",
    "        corners2R = cv2.cornerSubPix(grayR, cornersR, (11, 11), (-1, -1), criteria)\n",
    "        corners2L = cv2.cornerSubPix(grayL, cornersL, (11, 11), (-1, -1), criteria)\n",
    "\n",
    "        imgpointsR.append(corners2R)\n",
    "        imgpointsL.append(corners2L)\n",
    "\n",
    "        # Draw and display the corners\n",
    "        imgR = cv2.drawChessboardCorners(imgR, CHECKERBOARD, corners2R, retR)\n",
    "        imgL = cv2.drawChessboardCorners(imgL, CHECKERBOARD, corners2L, retL)\n",
    "    \n",
    "    cv2.imshow('img', np.concatenate((imgL, imgR), axis=1))\n",
    "    cv2.waitKey(1)\n",
    "\n",
    "cv2.destroyAllWindows()\n",
    "\n",
    "h, w = imgR.shape[:2]"
   ],
   "metadata": {
    "collapsed": false,
    "ExecuteTime": {
     "end_time": "2025-05-12T01:41:04.024742Z",
     "start_time": "2025-05-12T01:41:01.251201Z"
    }
   },
   "id": "7eccf212ca92fa15",
   "execution_count": 39
  },
  {
   "cell_type": "code",
   "outputs": [
    {
     "name": "stderr",
     "output_type": "stream",
     "text": [
      "ic| KL: array([[931.30019496,   0.        , 281.76963219],\n",
      "               [  0.        , 926.8736945 , 335.41083851],\n",
      "               [  0.        ,   0.        ,   1.        ]])\n",
      "    distL: array([[ 0.07865313, -0.84050108,  0.01016875,  0.01707246,  3.63095832]])\n",
      "    KR: array([[932.53891575,   0.        , 272.58233251],\n",
      "               [  0.        , 927.47669794, 337.06310409],\n",
      "               [  0.        ,   0.        ,   1.        ]])\n",
      "    distR: array([[-0.01396712,  0.35858365,  0.00813819,  0.01383208, -1.00899726]])\n",
      "ic| R: array([[ 0.9987424 , -0.0226302 , -0.04473809],\n",
      "              [ 0.02377945,  0.9993964 ,  0.02532525],\n",
      "              [ 0.04413797, -0.02635725,  0.99867769]])\n",
      "    T: array([[-11.85573165],\n",
      "              [ -0.37841502],\n",
      "              [ -0.13359546]])\n"
     ]
    }
   ],
   "source": [
    "\"\"\"\n",
    "Performing camera calibration by \n",
    "passing the value of known 3D points (objpoints)\n",
    "and corresponding pixel coordinates of the \n",
    "detected corners (imgpoints)\n",
    "\"\"\"\n",
    "ret, KL, distL, KR, distR, R, T, E, F = cv2.stereoCalibrate(objpoints, imgpointsL, imgpointsR, mtxL, distL,\n",
    "                                                                 mtxR, distR, (w, h), criteria = criteria, flags = cv2.CALIB_FIX_INTRINSIC)\n",
    "ic(KL, distL, KR, distR)\n",
    "ic(R, T)\n",
    "\n",
    "with open('calibrationStereo.calib', 'wb') as f:\n",
    "    obj = (mtxR, distR, mtxL, distL, R, T)\n",
    "    dump(obj, f)"
   ],
   "metadata": {
    "collapsed": false,
    "ExecuteTime": {
     "end_time": "2025-05-12T01:42:13.155206Z",
     "start_time": "2025-05-12T01:42:12.306102Z"
    }
   },
   "id": "56f85fcee2964a17",
   "execution_count": 41
  },
  {
   "cell_type": "markdown",
   "id": "95d55152cac945c",
   "metadata": {},
   "source": [
    "Egomotion Calculations"
   ]
  },
  {
   "cell_type": "code",
   "execution_count": null,
   "id": "b1d33cfa21e10d90",
   "metadata": {},
   "outputs": [],
   "source": [
    "# Load the Calibration\n",
    "with open('calibration_logi.calib', 'rb') as f:\n",
    "    mtx,dist = load(f)\n",
    "    ic(mtx, dist)"
   ]
  },
  {
   "cell_type": "code",
   "execution_count": null,
   "id": "8ba1016e56e469fd",
   "metadata": {},
   "outputs": [],
   "source": [
    "#Optical FLow Parameters\n",
    "lk_of_params = dict( winSize  = (5, 5),\n",
    "                  maxLevel = 10,\n",
    "                  criteria = (cv2.TERM_CRITERIA_EPS + cv2.TERM_CRITERIA_COUNT, 10, 0.03))\n",
    "\n",
    "# Initiate FAST object\n",
    "fast = cv2.FastFeatureDetector_create(threshold=7, nonmaxSuppression=True)"
   ]
  },
  {
   "cell_type": "markdown",
   "id": "4807ed9b95bba671",
   "metadata": {},
   "source": [
    "start cam"
   ]
  },
  {
   "cell_type": "code",
   "execution_count": null,
   "id": "1d87cf9cdc256a34",
   "metadata": {},
   "outputs": [],
   "source": [
    "# Open the default camera\n",
    "cam = cv2.VideoCapture(0)\n",
    "\n",
    "cam.set(cv2.CAP_PROP_FRAME_WIDTH, 1280 )\n",
    "cam.set(cv2.CAP_PROP_FRAME_HEIGHT, 720)\n",
    "cam.set(cv2.CAP_PROP_FPS, 30)\n",
    "\n",
    "# Get the default frame width and height\n",
    "frame_width = int(cam.get(cv2.CAP_PROP_FRAME_WIDTH))\n",
    "frame_height = int(cam.get(cv2.CAP_PROP_FRAME_HEIGHT))\n",
    "fps = int(cam.get(cv2.CAP_PROP_FPS))\n",
    "\n",
    "ic(frame_width, frame_height, fps)"
   ]
  },
  {
   "cell_type": "code",
   "execution_count": null,
   "id": "af5065ea24cba79f",
   "metadata": {},
   "outputs": [],
   "source": [
    "Rpose = np.eye(3)\n",
    "Tpose = np.zeros(shape=(3,1))\n",
    "\n",
    "ret, raw = cam.read()\n",
    "\n",
    "f1 = cv2.cvtColor(raw, cv2.COLOR_RGB2GRAY)\n",
    "\n",
    "while True:\n",
    "    f0 = deepcopy(f1) \n",
    "    ret, raw = cam.read()\n",
    "    frame = raw\n",
    "    f1 = cv2.cvtColor(raw, cv2.COLOR_RGB2GRAY)\n",
    "    \n",
    "    if good_p1.size / 2 < 5000:\n",
    "        p0 = fast.detect(f0)\n",
    "        p0 = np.array([x.pt for x in p0], dtype=np.float32).reshape(-1, 1, 2)\n",
    "    else:\n",
    "        p0 = deepcopy(good_p1)\n",
    "        p0 = np.array(p0, dtype=np.float32).reshape(-1, 1, 2)\n",
    "    \n",
    "    # Calculate optical flow between frames, st holds status\n",
    "    # of points from frame to frame\n",
    "    p1, st, err = cv2.calcOpticalFlowPyrLK(f0, f1, p0, None, **lk_of_params)\n",
    "    \n",
    "    if p1 is not None:\n",
    "        good_p0 = p0[st == 1]\n",
    "        good_p1 = p1[st == 1]\n",
    "    else:\n",
    "        good_p0 = np.empty((0, 2), dtype=np.float32)\n",
    "\n",
    "    if good_p0.size != 0:\n",
    "        #Find essential matrix and decompose\n",
    "        E, _ = cv2.findEssentialMat(good_p1, good_p0, mtx, cv2.RANSAC, 0.999, 1.0, None)\n",
    "        if E is not None:\n",
    "            if not np.isnan(E).any() and E.size == 9:\n",
    "                _, R, t, _ = cv2.recoverPose(E, good_p0, good_p1, mtx)\n",
    "                \n",
    "                Rmag = abs(Rotation.from_matrix(R).as_euler('xyz', degrees=True))\n",
    "                if Rmag.max() < 100:       # Rotation Threshold\n",
    "                    if abs(t).max() > 0.5:\n",
    "                        Tpose = Tpose + np.linalg.inv(Rpose) @ t\n",
    "                    Rpose = R @ Rpose\n",
    "        \n",
    "        for i in range(len(good_p0)):\n",
    "            cv2.circle(frame,(int(good_p0[i][0]),int(good_p0[i][1])),1,(255,0,0))\n",
    "            cv2.circle(frame,(int(good_p1[i][0]),int(good_p1[i][1])),1,(0,0,255))\n",
    "        \n",
    "        cv2.putText(frame, \"PITCH{0:.4f} YAW{1:.4f} ROLL{2:.4f}\".format(*Rotation.from_matrix(Rpose).as_euler(\"xyz\",degrees=True)), (100,100), cv2.FONT_HERSHEY_SIMPLEX, 0.5, (0,0,0))\n",
    "        cv2.putText(frame, \"X{0:.4f} Y{1:.4f} Z{2:.4f}\".format(*Tpose.flatten()), (100,200), cv2.FONT_HERSHEY_SIMPLEX, 0.5, (0,0,0))\n",
    "    \n",
    "    cv2.imshow('img',frame)\n",
    "    # Press 'q' to exit the loop\n",
    "    if cv2.waitKey(1) == ord('q'):\n",
    "        break\n",
    "        \n",
    "cv2.destroyAllWindows() "
   ]
  },
  {
   "cell_type": "code",
   "execution_count": null,
   "id": "aa9448124773c9bc",
   "metadata": {},
   "outputs": [],
   "source": [
    "# Release the capture and writer objects\n",
    "cam.release()\n",
    "cv2.destroyAllWindows() "
   ]
  },
  {
   "cell_type": "code",
   "execution_count": null,
   "id": "9827309a6519114a",
   "metadata": {},
   "outputs": [],
   "source": []
  }
 ],
 "metadata": {
  "kernelspec": {
   "display_name": "Python [conda env:base] *",
   "language": "python",
   "name": "conda-base-py"
  },
  "language_info": {
   "codemirror_mode": {
    "name": "ipython",
    "version": 3
   },
   "file_extension": ".py",
   "mimetype": "text/x-python",
   "name": "python",
   "nbconvert_exporter": "python",
   "pygments_lexer": "ipython3",
   "version": "3.12.7"
  }
 },
 "nbformat": 4,
 "nbformat_minor": 5
}
