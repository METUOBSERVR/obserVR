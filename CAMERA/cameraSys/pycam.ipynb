{
 "cells": [
  {
   "cell_type": "code",
   "id": "initial_id",
   "metadata": {
    "collapsed": true,
    "ExecuteTime": {
     "end_time": "2024-12-13T16:44:08.815956Z",
     "start_time": "2024-12-13T16:44:08.797282Z"
    }
   },
   "source": [
    "import numpy as np\n",
    "import cv2\n",
    "import glob\n",
    "from icecream import ic\n",
    "from pickle import dump, load\n",
    "from copy import deepcopy"
   ],
   "outputs": [],
   "execution_count": 6
  },
  {
   "metadata": {},
   "cell_type": "markdown",
   "source": "Checkerboard and criteria for calibration",
   "id": "6c7785189be61e8"
  },
  {
   "metadata": {
    "ExecuteTime": {
     "end_time": "2024-12-13T16:18:15.551382Z",
     "start_time": "2024-12-13T16:18:15.533578Z"
    }
   },
   "cell_type": "code",
   "source": [
    "CHECKERBOARD = (10,7)\n",
    "criteria = (cv2.TERM_CRITERIA_EPS + cv2.TERM_CRITERIA_MAX_ITER, 30, 0.001)"
   ],
   "id": "240d4d2b4c51ca41",
   "outputs": [],
   "execution_count": 2
  },
  {
   "metadata": {},
   "cell_type": "markdown",
   "source": "Get calibration images",
   "id": "9a223b3bbd478119"
  },
  {
   "metadata": {
    "ExecuteTime": {
     "end_time": "2024-12-13T17:01:41.973756Z",
     "start_time": "2024-12-13T16:51:44.487165Z"
    }
   },
   "cell_type": "code",
   "source": [
    "# Open the default camera\n",
    "cam = cv2.VideoCapture(0)\n",
    "\n",
    "cam.set(cv2.CAP_PROP_FRAME_WIDTH, 1280 )\n",
    "cam.set(cv2.CAP_PROP_FRAME_HEIGHT, 720)\n",
    "cam.set(cv2.CAP_PROP_FPS, 30)\n",
    "\n",
    "# Get the default frame width and height\n",
    "frame_width = int(cam.get(cv2.CAP_PROP_FRAME_WIDTH))\n",
    "frame_height = int(cam.get(cv2.CAP_PROP_FRAME_HEIGHT))\n",
    "fps = int(cam.get(cv2.CAP_PROP_FPS))\n",
    "\n",
    "ic(frame_width, frame_height, fps)\n",
    "\n",
    "n = 0\n",
    "\n",
    "while True:\n",
    "    ret, raw = cam.read()\n",
    "\n",
    "    # Display the captured frame\n",
    "    gray = cv2.cvtColor(raw, cv2.COLOR_RGB2GRAY)\n",
    "    frame = deepcopy(raw)\n",
    "    \n",
    "    ret, corners = cv2.findChessboardCorners(gray, CHECKERBOARD, cv2.CALIB_CB_ADAPTIVE_THRESH + cv2.CALIB_CB_FAST_CHECK + cv2.CALIB_CB_NORMALIZE_IMAGE)\n",
    "\n",
    "    if ret:\n",
    "        # refining pixel coordinates for given 2d points.\n",
    "        corners2 = cv2.cornerSubPix(gray, corners, (11,11),(-1,-1), criteria)\n",
    "\n",
    "        # Draw and display the corners\n",
    "        frame = cv2.drawChessboardCorners(frame, CHECKERBOARD, corners2, ret)\n",
    "       \n",
    "    cv2.imshow('img',frame)\n",
    "    # Press 'q' to exit the loop\n",
    "    if cv2.waitKey(1) == ord('q'):\n",
    "        break\n",
    "    elif cv2.waitKey(1) == ord('c'):\n",
    "        if ret:\n",
    "            cv2.imwrite('calibration images/{}.png'.format(n), raw)\n",
    "            ic(n)\n",
    "            n += 1\n",
    "\n",
    "# Release the capture and writer objects\n",
    "cam.release()\n",
    "cv2.destroyAllWindows()"
   ],
   "id": "b4f6baf9bb1f7fd8",
   "outputs": [
    {
     "name": "stderr",
     "output_type": "stream",
     "text": [
      "ic| frame_width: 1280, frame_height: 720, fps: 30\n",
      "ic| n: 0\n",
      "ic| n: 1\n",
      "ic| n: 2\n",
      "ic| n: 3\n",
      "ic| n: 4\n",
      "ic| n: 5\n",
      "ic| n: 6\n",
      "ic| n: 7\n",
      "ic| n: 8\n",
      "ic| n: 9\n",
      "ic| n: 10\n",
      "ic| n: 11\n",
      "ic| n: 12\n",
      "ic| n: 13\n",
      "ic| n: 14\n",
      "ic| n: 15\n",
      "ic| n: 16\n",
      "ic| n: 17\n",
      "ic| n: 18\n",
      "ic| n: 19\n",
      "ic| n: 20\n",
      "ic| n: 21\n",
      "ic| n: 22\n",
      "ic| n: 23\n",
      "ic| n: 24\n",
      "ic| n: 25\n",
      "ic| n: 26\n",
      "ic| n: 27\n",
      "ic| n: 28\n",
      "ic| n: 29\n",
      "ic| n: 30\n",
      "ic| n: 31\n",
      "ic| n: 32\n",
      "ic| n: 33\n",
      "ic| n: 34\n",
      "ic| n: 35\n",
      "ic| n: 36\n",
      "ic| n: 37\n",
      "ic| n: 38\n",
      "ic| n: 39\n",
      "ic| n: 40\n",
      "ic| n: 41\n",
      "ic| n: 42\n",
      "ic| n: 43\n",
      "ic| n: 44\n",
      "ic| n: 45\n",
      "ic| n: 46\n",
      "ic| n: 47\n",
      "ic| n: 48\n"
     ]
    }
   ],
   "execution_count": 9
  },
  {
   "metadata": {},
   "cell_type": "markdown",
   "source": "Calibration",
   "id": "d4290bd5bd55940c"
  },
  {
   "metadata": {
    "ExecuteTime": {
     "end_time": "2024-12-13T17:02:12.475010Z",
     "start_time": "2024-12-13T17:02:09.086267Z"
    }
   },
   "cell_type": "code",
   "source": [
    "# Creating vector to store vectors of 3D points for each checkerboard image\n",
    "objpoints = []\n",
    "# Creating vector to store vectors of 2D points for each checkerboard image\n",
    "imgpoints = [] \n",
    "\n",
    "# Defining the world coordinates for 3D points\n",
    "objp = np.zeros((1, CHECKERBOARD[0] * CHECKERBOARD[1], 3), np.float32)\n",
    "objp[0,:,:2] = np.mgrid[0:CHECKERBOARD[0], 0:CHECKERBOARD[1]].T.reshape(-1, 2)\n",
    "objp *= 24\n",
    "prev_img_shape = None\n",
    " \n",
    "# Extracting path of individual image stored in a given directory\n",
    "images = glob.glob('./calibration images/*.png')\n",
    "for fname in images:\n",
    "    img = cv2.imread(fname)\n",
    "    gray = cv2.cvtColor(img,cv2.COLOR_BGR2GRAY)\n",
    "    # Find the chess board corners\n",
    "    # If desired number of corners are found in the image then ret = true\n",
    "    ret, corners = cv2.findChessboardCorners(gray, CHECKERBOARD, cv2.CALIB_CB_ADAPTIVE_THRESH + cv2.CALIB_CB_FAST_CHECK + cv2.CALIB_CB_NORMALIZE_IMAGE)\n",
    "     \n",
    "    \"\"\"\n",
    "    If desired number of corner are detected,\n",
    "    we refine the pixel coordinates and display \n",
    "    them on the images of checker board\n",
    "    \"\"\"\n",
    "    if ret:\n",
    "        objpoints.append(objp)\n",
    "        # refining pixel coordinates for given 2d points.\n",
    "        corners2 = cv2.cornerSubPix(gray, corners, (11,11),(-1,-1), criteria)\n",
    "         \n",
    "        imgpoints.append(corners2)\n",
    " \n",
    "        # Draw and display the corners\n",
    "        img = cv2.drawChessboardCorners(img, CHECKERBOARD, corners2, ret)\n",
    "     \n",
    "    cv2.imshow('img',img)\n",
    "    cv2.waitKey(1)\n",
    " \n",
    "cv2.destroyAllWindows()\n",
    " \n",
    "h,w = img.shape[:2]\n",
    " \n",
    "\"\"\"\n",
    "Performing camera calibration by \n",
    "passing the value of known 3D points (objpoints)\n",
    "and corresponding pixel coordinates of the \n",
    "detected corners (imgpoints)\n",
    "\"\"\""
   ],
   "id": "382cdb0ae4f1d370",
   "outputs": [
    {
     "data": {
      "text/plain": [
       "'\\nPerforming camera calibration by \\npassing the value of known 3D points (objpoints)\\nand corresponding pixel coordinates of the \\ndetected corners (imgpoints)\\n'"
      ]
     },
     "execution_count": 10,
     "metadata": {},
     "output_type": "execute_result"
    }
   ],
   "execution_count": 10
  },
  {
   "metadata": {
    "ExecuteTime": {
     "end_time": "2024-12-13T17:02:30.924991Z",
     "start_time": "2024-12-13T17:02:17.396313Z"
    }
   },
   "cell_type": "code",
   "source": [
    "ret, mtx, dist, rvecs, tvecs = cv2.calibrateCamera(objpoints, imgpoints, gray.shape[::-1], None, None)\n",
    "ic(mtx, dist)\n",
    "\n",
    "with open('calibration_logi.calib', 'wb') as f:\n",
    "    obj = (mtx,dist)\n",
    "    dump(obj, f)"
   ],
   "id": "f5e787724623ee91",
   "outputs": [
    {
     "name": "stderr",
     "output_type": "stream",
     "text": [
      "ic| mtx: array([[1.42442011e+03, 0.00000000e+00, 6.00936662e+02],\n",
      "                [0.00000000e+00, 1.41755565e+03, 3.80159596e+02],\n",
      "                [0.00000000e+00, 0.00000000e+00, 1.00000000e+00]])\n",
      "    dist: array([[ 0.01854327, -0.04146034, -0.00178674,  0.00135992, -0.42533342]])\n"
     ]
    }
   ],
   "execution_count": 11
  }
 ],
 "metadata": {
  "kernelspec": {
   "display_name": "Python 3",
   "language": "python",
   "name": "python3"
  },
  "language_info": {
   "codemirror_mode": {
    "name": "ipython",
    "version": 2
   },
   "file_extension": ".py",
   "mimetype": "text/x-python",
   "name": "python",
   "nbconvert_exporter": "python",
   "pygments_lexer": "ipython2",
   "version": "2.7.6"
  }
 },
 "nbformat": 4,
 "nbformat_minor": 5
}
